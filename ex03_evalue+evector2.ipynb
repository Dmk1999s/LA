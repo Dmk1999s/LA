{
  "nbformat": 4,
  "nbformat_minor": 0,
  "metadata": {
    "colab": {
      "provenance": [],
      "authorship_tag": "ABX9TyNUb/Hya0kvroq8pgvBAK/3",
      "include_colab_link": true
    },
    "kernelspec": {
      "name": "python3",
      "display_name": "Python 3"
    },
    "language_info": {
      "name": "python"
    }
  },
  "cells": [
    {
      "cell_type": "markdown",
      "metadata": {
        "id": "view-in-github",
        "colab_type": "text"
      },
      "source": [
        "<a href=\"https://colab.research.google.com/github/Dmk1999s/LA/blob/main/ex03_evalue%2Bevector2.ipynb\" target=\"_parent\"><img src=\"https://colab.research.google.com/assets/colab-badge.svg\" alt=\"Open In Colab\"/></a>"
      ]
    },
    {
      "cell_type": "markdown",
      "source": [
        "# Part 1. Eigen values & Eigen vectors  \n",
        "### 0. import libraries"
      ],
      "metadata": {
        "id": "JjeOZTm4tSbO"
      }
    },
    {
      "cell_type": "code",
      "source": [
        "import numpy as np\n",
        "import numpy.linalg as npl # Linear Algebra\n",
        "import matplotlib.pyplot as plt"
      ],
      "metadata": {
        "id": "BL7ZGrP5tSUq"
      },
      "execution_count": null,
      "outputs": []
    },
    {
      "cell_type": "markdown",
      "source": [
        "### < eigen values & eigen vectors of A >  \n",
        "$ Au = \\lambda u $"
      ],
      "metadata": {
        "id": "JjWF6oXnt-yM"
      }
    },
    {
      "cell_type": "code",
      "source": [
        "A = np.array([[4,2], [1,3]])\n",
        "print(\"A: \")\n",
        "print(A, \"\\n\")\n",
        "\n",
        "e_values, e_vectors = npl.eig(A)\n",
        "print(\"A의 고윳값 =\", e_values)\n",
        "print(\"A의 고유벡터값 =\", e_vectors, \"\\n\")  # evector 는 단위벡터로 나타남\n",
        "\n",
        "# eigen vector u1, u2\n",
        "u1 = np.vstack(e_vectors[:, 0])\n",
        "u2 = np.vstack(e_vectors[:, 1])\n",
        "print(\"u1: \", u1)\n",
        "print(\"u2: \", u2, \"\\n\")\n",
        "\n",
        "# eigen value lambda, lambda2\n",
        "l1, l2 = e_values[0], e_values[1]\n",
        "print(\"eigenvalues: \", l1, l2, \"\\n\")\n",
        "\n",
        "# Check\n",
        "print(\"A u1\", np.dot(A, u1))\n",
        "print(\"l1 u1\", l1*u1)\n",
        "\n",
        "print(\"A u2\", np.dot(A, u2))\n",
        "print(\"l2 u2\", l2*u2)"
      ],
      "metadata": {
        "colab": {
          "base_uri": "https://localhost:8080/"
        },
        "id": "r-3XCDYrtvGL",
        "outputId": "b9e1e45a-21ec-4c50-da20-0022fe9e48b7"
      },
      "execution_count": null,
      "outputs": [
        {
          "output_type": "stream",
          "name": "stdout",
          "text": [
            "A: \n",
            "[[4 2]\n",
            " [1 3]] \n",
            "\n",
            "A의 고윳값 = [5. 2.]\n",
            "A의 고유벡터값 = [[ 0.89442719 -0.70710678]\n",
            " [ 0.4472136   0.70710678]] \n",
            "\n",
            "u1:  [[0.89442719]\n",
            " [0.4472136 ]]\n",
            "u2:  [[-0.70710678]\n",
            " [ 0.70710678]] \n",
            "\n",
            "eigenvalues:  5.0 2.0 \n",
            "\n",
            "A u1 [[4.47213595]\n",
            " [2.23606798]]\n",
            "l1 u1 [[4.47213595]\n",
            " [2.23606798]]\n",
            "A u2 [[-1.41421356]\n",
            " [ 1.41421356]]\n",
            "l2 u2 [[-1.41421356]\n",
            " [ 1.41421356]]\n"
          ]
        }
      ]
    },
    {
      "cell_type": "code",
      "source": [
        "B = np.array([[5,2,0],[2,5,0],[-3,4,6]])\n",
        "w2, V2 = npl.eig(B) # B의 고윳값과 고유벡터 계산\n",
        "\n",
        "print(\"B의 고윳값 = \", w2)\n",
        "print(\"B의 고유벡터 = \", V2)"
      ],
      "metadata": {
        "colab": {
          "base_uri": "https://localhost:8080/"
        },
        "id": "8xA5eNsBy2oU",
        "outputId": "e56947ea-df8d-4a4f-8ae3-a3a1ed344a42"
      },
      "execution_count": null,
      "outputs": [
        {
          "output_type": "stream",
          "name": "stdout",
          "text": [
            "B의 고윳값 =  [6. 7. 3.]\n",
            "B의 고유벡터 =  [[ 0.          0.57735027  0.36650833]\n",
            " [ 0.          0.57735027 -0.36650833]\n",
            " [ 1.          0.57735027  0.85518611]]\n"
          ]
        }
      ]
    },
    {
      "cell_type": "code",
      "source": [],
      "metadata": {
        "id": "-O7GHTF_0XIq"
      },
      "execution_count": null,
      "outputs": []
    }
  ]
}