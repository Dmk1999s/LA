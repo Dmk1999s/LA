{
  "nbformat": 4,
  "nbformat_minor": 0,
  "metadata": {
    "colab": {
      "provenance": []
    },
    "kernelspec": {
      "name": "python3",
      "display_name": "Python 3"
    },
    "language_info": {
      "name": "python"
    }
  },
  "cells": [
    {
      "cell_type": "markdown",
      "source": [
        "### 라이브러리 선언"
      ],
      "metadata": {
        "id": "VcKvO8KcJ9AJ"
      }
    },
    {
      "cell_type": "code",
      "source": [
        "import numpy as np\n",
        "import matplotlib.pyplot as plt\n",
        "from matplotlib.patches import Polygon\n",
        "\n",
        "INF = 1000  # 그림판 크기\n",
        "LEN = 100   # 처음 사각형의 크기"
      ],
      "metadata": {
        "id": "uwkBDldBERem"
      },
      "execution_count": 338,
      "outputs": []
    },
    {
      "cell_type": "markdown",
      "source": [
        "### 축 그리기 및 사각형 그리기"
      ],
      "metadata": {
        "id": "eSiS-XHya1FY"
      }
    },
    {
      "cell_type": "code",
      "source": [
        "def draw_axis(ax):\n",
        "  ax.axhline(0, color='black', alpha=0.3)  # x-axis line\n",
        "  ax.axvline(0, color='black', alpha=0.3)  # y-axis line\n",
        "  ax.set_xlim(-INF, INF)\n",
        "  ax.set_ylim(-INF, INF)\n",
        "  ax.set_aspect('equal')  # 정사각형 모양으로 backboard 그리기"
      ],
      "metadata": {
        "id": "_fc5wJBeKXDN"
      },
      "execution_count": 339,
      "outputs": []
    },
    {
      "cell_type": "code",
      "source": [
        "def draw_trapezoid(ax, p1, p2, p3, p4):\n",
        "  my_polygon = Polygon([p1, p2, p3, p4])\n",
        "  ax.add_patch(my_polygon)\n"
      ],
      "metadata": {
        "id": "FcqNRYIRdk60"
      },
      "execution_count": 340,
      "outputs": []
    },
    {
      "cell_type": "code",
      "source": [
        "def draw_rectangle(ax, p1, p2, p3, p4):\n",
        "  my_polygon = Polygon([p1, p2, p3, p4])\n",
        "  ax.add_patch(my_polygon)"
      ],
      "metadata": {
        "id": "0XC7sFs9Hf3e"
      },
      "execution_count": 341,
      "outputs": []
    },
    {
      "cell_type": "code",
      "source": [
        "def draw_rectangle2(ax, p1, p2, p3, p4):\n",
        "  my_polygon = Polygon([p1, p2, p3, p4])\n",
        "  ax.add_patch(my_polygon) "
      ],
      "metadata": {
        "id": "Vgd05koCY27X"
      },
      "execution_count": 342,
      "outputs": []
    },
    {
      "cell_type": "code",
      "source": [
        "def draw_object(ax):\n",
        "  p1 = np.array([0, 0])\n",
        "  p2 = np.array([LEN, 0])\n",
        "  p3 = np.array([LEN, LEN])\n",
        "  p4 = np.array([0, LEN])\n",
        "\n",
        "  draw_rectangle(ax, p1, p2, p3, p4)"
      ],
      "metadata": {
        "id": "9_fAE1_kPjsv"
      },
      "execution_count": 343,
      "outputs": []
    },
    {
      "cell_type": "markdown",
      "source": [
        "### 본론\n",
        "#### 1. 변환 구현\n",
        "* translate(p, dx, dy)\n",
        "* rotate(p, theta)  \n",
        "* scale(p, sx, sy)  \n",
        "* shear_x(p, sx)  \n",
        "* shear_y(p, sy)  \n",
        "* reflect_x(p)  \n",
        "* reflect_y(p)   \n",
        "* ..."
      ],
      "metadata": {
        "id": "6txnl6M2PeUz"
      }
    },
    {
      "cell_type": "markdown",
      "source": [
        "#### 2. 파트 그리기\n",
        "* draw_cockpit(p1, p2, p3, p4)    # 중앙 조종석\n",
        "* draw_left_arm(p1, p2, p3, p4)   # 왼쪽 날개축\n",
        "* draw_left_wing(p1, p2, p3, p4)  # 왼쪽 날개\n",
        "* draw_right_arm(p1, p2, p3, p4)  # 오른쪽 날개축\n",
        "* draw_right_wing(p1, p2, p3, p4) # 오른쪽 날개"
      ],
      "metadata": {
        "id": "E_jHSezpTC-9"
      }
    },
    {
      "cell_type": "code",
      "source": [
        "def draw_cockpit(ax, p1, p2, p3, p4):  # 중앙 조종석\n",
        "  # 1. 사각형을 원점으로 이동 변환: T(-LEN/2, -LEN/2)\n",
        "  # q = T(-LEN/2, -LEN/2)p\n",
        "  q1 = translate(p1, -LEN/2, -LEN/2)\n",
        "  q2 = translate(p2, -LEN/2, -LEN/2)\n",
        "  q3 = translate(p3, -LEN/2, -LEN/2)\n",
        "  q4 = translate(p4, -LEN/2, -LEN/2)\n",
        "\n",
        "  s = 5\n",
        "  q1 = scale(q1, s, s)\n",
        "  q2 = scale(q2, s, s)\n",
        "  q3 = scale(q3, s, s)\n",
        "  q4 = scale(q4, s, s)\n",
        "  \n",
        "  q1 = rotate(q1, 3.14/4.0)\n",
        "  q2 = rotate(q2, 3.14/4.0)\n",
        "  q3 = rotate(q3, 3.14/4.0)\n",
        "  q4 = rotate(q4, 3.14/4.0)\n",
        "\n",
        "  # 4. polygon 그리기 \n",
        "  draw_rectangle(ax, q1, q2, q3, q4)"
      ],
      "metadata": {
        "id": "6C7a4CH4HSj0"
      },
      "execution_count": 344,
      "outputs": []
    },
    {
      "cell_type": "code",
      "source": [
        "def draw_object2(ax):\n",
        "  p1 = np.array([0, 0])\n",
        "  p2 = np.array([1.2*LEN, 2.3*LEN])\n",
        "  p3 = np.array([1.2*LEN,10*LEN])\n",
        "  p4 = np.array([0,12.3*LEN])\n",
        "\n",
        "  draw_left_wing(ax, p1, p2, p3, p4)\n",
        "  draw_right_wing(ax, p1, p2, p3, p4)"
      ],
      "metadata": {
        "id": "T-Mw0_uVMqDf"
      },
      "execution_count": 345,
      "outputs": []
    },
    {
      "cell_type": "code",
      "source": [
        "def draw_left_wing(ax, p1, p2, p3, p4):  # 좌측날개\n",
        "  q1 = translate(p1,-8.75*LEN, -6.25*LEN)\n",
        "  q2 = translate(p2,-8.75*LEN, -6.25*LEN)\n",
        "  q3 = translate(p3,-8.75*LEN, -6.25*LEN)\n",
        "  q4 = translate(p4,-8.75*LEN, -6.25*LEN)\n",
        "  \n",
        "  draw_trapezoid(ax, q1, q2, q3, q4)"
      ],
      "metadata": {
        "id": "V0rvve7g2zyP"
      },
      "execution_count": 346,
      "outputs": []
    },
    {
      "cell_type": "code",
      "source": [
        "def draw_right_wing(ax, p1, p2, p3, p4):  # 우측날개\n",
        "    # 좌표 y값 대칭\n",
        "  q1 = reflect_y(p1)\n",
        "  q2 = reflect_y(p2)\n",
        "  q3 = reflect_y(p3)\n",
        "  q4 = reflect_y(p4)\n",
        "\n",
        "  # 좌표 x값 이동 및 y값 대칭\n",
        "  q1 = translate(q1, 8.75*LEN, -6.25*LEN)\n",
        "  q2 = translate(q2, 8.75*LEN, -6.25*LEN)\n",
        "  q3 = translate(q3, 8.75*LEN, -6.25*LEN)\n",
        "  q4 = translate(q4, 8.75*LEN, -6.25*LEN)\n",
        "\n",
        "  draw_trapezoid(ax, q1, q2, q3, q4)\n"
      ],
      "metadata": {
        "id": "lVR5_cpa3CQI"
      },
      "execution_count": 347,
      "outputs": []
    },
    {
      "cell_type": "code",
      "source": [
        "def draw_object3(ax):\n",
        "  p1 = np.array([[-1*LEN, 0]])\n",
        "  p2 = np.array([[6*LEN,0]])\n",
        "  p3 = np.array([[6*LEN,0.95*LEN]])\n",
        "  p4 = np.array([[-1*LEN,0.95*LEN]])\n",
        "\n",
        "  draw_upper_right(ax,p1,p2,p3,p4)\n",
        "  draw_upper_left(ax,p1,p2,p3,p4)\n",
        "  draw_lower_right(ax,p1,p2,p3,p4)\n",
        "  draw_lower_left(ax,p1,p2,p3,p4)\n"
      ],
      "metadata": {
        "id": "Ug_dSbGwZJxo"
      },
      "execution_count": 370,
      "outputs": []
    },
    {
      "cell_type": "code",
      "source": [
        "def reflect_x(p):\n",
        "  hp = np.array([p[0], p[1], 1.0])\n",
        "  m = np.array([[1,0,0],[0,-1,0],[0,0,1]])\n",
        "  q = np.dot(m,hp)\n",
        "  q = np.array([q[0],q[1]])\n",
        "  return q\n",
        "\n",
        "def reflect_y(p):\n",
        "  hp = np.array([p[0], p[1], 1.0])\n",
        "  m = np.array([[-1,0,0],[0,1,0],[0,0,1]])\n",
        "  q = np.dot(m,hp)\n",
        "  q = np.array([q[0],q[1]])\n",
        "  return q\n",
        "\n",
        "def reflect_x_y(p):\n",
        "  hp = np.array([p[0], p[1], 1.0])\n",
        "  m = np.array([[-1,0,0],[0,-1,0],[0,0,1]])\n",
        "  q = np.dot(m,hp)\n",
        "  q = np.array([q[0],q[1]])\n",
        "  return q\n"
      ],
      "metadata": {
        "id": "oL_N9YFgto9h"
      },
      "execution_count": 349,
      "outputs": []
    },
    {
      "cell_type": "code",
      "source": [
        "def draw_upper_right(ax,p1,p2,p3,p4):\n",
        "  q1 = translate1(p1,1.5*LEN,150)\n",
        "  q2 = translate1(p2,1.5*LEN,150)\n",
        "  q3 = translate1(p3,1.5*LEN,150)\n",
        "  q4 = translate1(p4,1.5*LEN,150)\n",
        "\n",
        "  q1 = rotate(q1,-3.14/12)\n",
        "  q2 = rotate(q2,-3.14/12)\n",
        "  q3 = rotate(q3,-3.14/12)\n",
        "  q4 = rotate(q4,-3.14/12)\n",
        "\n",
        "  draw_rectangle2(ax, q1, q2, q3, q4)\n",
        "  return q1, q2, q3, q4"
      ],
      "metadata": {
        "id": "AjqAoJ6Dgece"
      },
      "execution_count": 350,
      "outputs": []
    },
    {
      "cell_type": "code",
      "source": [
        "def draw_upper_left(ax,p1,p2,p3,p4):\n",
        "  q1, q2, q3, q4 = draw_upper_right(ax, p1, p2, p3, p4)\n",
        "  q1 = reflect_y(q1)\n",
        "  q2 = reflect_y(q2)\n",
        "  q3 = reflect_y(q3)\n",
        "  q4 = reflect_y(q4)\n",
        "  \n",
        "  draw_rectangle2(ax, q1, q2, q3, q4)"
      ],
      "metadata": {
        "id": "k7xjJ-YSZJ7V"
      },
      "execution_count": 351,
      "outputs": []
    },
    {
      "cell_type": "code",
      "source": [
        "def draw_lower_right(ax,p1,p2,p3,p4):\n",
        "  q1, q2, q3, q4 = draw_upper_right(ax, p1, p2, p3, p4)\n",
        "  q1 = reflect_x(q1)\n",
        "  q2 = reflect_x(q2)\n",
        "  q3 = reflect_x(q3)\n",
        "  q4 = reflect_x(q4)\n",
        "  draw_rectangle2(ax, q1, q2, q3, q4)"
      ],
      "metadata": {
        "id": "J1hhpBBp3CSW"
      },
      "execution_count": 352,
      "outputs": []
    },
    {
      "cell_type": "code",
      "source": [
        "def draw_lower_left(ax,p1,p2,p3,p4):\n",
        "  q1, q2, q3, q4 = draw_upper_right(ax, p1, p2, p3, p4)\n",
        "  q1 = reflect_x_y(q1)\n",
        "  q2 = reflect_x_y(q2)\n",
        "  q3 = reflect_x_y(q3)\n",
        "  q4 = reflect_x_y(q4)\n",
        "  draw_rectangle2(ax, q1, q2, q3, q4)"
      ],
      "metadata": {
        "id": "i6TnD5WV4cMp"
      },
      "execution_count": 353,
      "outputs": []
    },
    {
      "cell_type": "code",
      "source": [
        "def draw_object3(ax):\n",
        "  p1 = np.array([[0, 0]])\n",
        "  p2 = np.array([[6.3*LEN,0]])\n",
        "  p3 = np.array([[6.3*LEN,0.95*LEN]])\n",
        "  p4 = np.array([[0,0.95*LEN]])\n",
        "\n",
        "  draw_upper_right(ax,p1,p2,p3,p4)\n",
        "  draw_upper_left(ax,p1,p2,p3,p4)\n",
        "  draw_lower_right(ax,p1,p2,p3,p4)\n",
        "  draw_lower_left(ax,p1,p2,p3,p4)\n"
      ],
      "metadata": {
        "id": "m2hVPya8s442"
      },
      "execution_count": 363,
      "outputs": []
    },
    {
      "cell_type": "code",
      "source": [
        "def scale(p, sx, sy):\n",
        "    # 1. 동차좌표계 (homogeneous coordinate)으로 변환\n",
        "    hp = np.array([p[0], p[1], 1.0])\n",
        "    \n",
        "    # 2. 스케일 변환 행렬 생성\n",
        "    m = np.array([[sx, 0.0, 0.0], [0.0, sy, 0.0], [0.0, 0.0, 1.0]])\n",
        "    \n",
        "    # 3. 행렬과 벡터의 곱\n",
        "    q = np.dot(m, hp)  # (3,3) x (3,1) -> (3,1)\n",
        "\n",
        "    # 4. 2차원 좌표계로 변환\n",
        "    q = np.array([q[0], q[1]])\n",
        "    return q\n"
      ],
      "metadata": {
        "id": "C199qa4bZmsv"
      },
      "execution_count": 355,
      "outputs": []
    },
    {
      "cell_type": "code",
      "source": [
        "# 점 p를 x축 방향으로 dx만큼, y축 방향으로 dy만큼 이동시킨 점 q를 구할 것\n",
        "# q = T(dx, dy) p1\n",
        "def translate(p, dx, dy):\n",
        "  # 1. 동차좌표계 (homogeneous coordinate)으로 변환\n",
        "  hp = np.array([p[0], p[1], 1.0])\n",
        "\n",
        "  # 2. 이동 변환 행렬 생성\n",
        "  m = np.array([[1.0, 0.0, dx], [0.0, 1.0, dy], [0.0, 0.0, 1.0]])\n",
        "  \n",
        "  # 3. 행렬과 벡터의 곱\n",
        "  q = np.dot(m, hp)  # (3,3) x (3,1) -> (3,1)\n",
        "  #print(q)\n",
        "\n",
        "  # 4. 2차원 좌표계로 변환\n",
        "  q = np.array([q[0], q[1]])\n",
        "  return q"
      ],
      "metadata": {
        "id": "gYzhNOIkZibS"
      },
      "execution_count": 356,
      "outputs": []
    },
    {
      "cell_type": "code",
      "source": [
        "def translate1(p, dx, dy):\n",
        "  hp = np.array([p[0][0], p[0][1], 1.0])\n",
        "\n",
        "  m = np.array([[1.0, 0.0, dx], [0.0, 1.0, dy], [0.0, 0.0, 1.0]])\n",
        "  \n",
        "  q = np.dot(m, hp)  # (3,3) x (3,1) -> (3,1)\n",
        "\n",
        "  q = np.array([q[0], q[1]])\n",
        "  return q"
      ],
      "metadata": {
        "id": "slnP7-MtuRFC"
      },
      "execution_count": 357,
      "outputs": []
    },
    {
      "cell_type": "code",
      "source": [
        "def rotate(p, theta):\n",
        "  # Create rotation matrix\n",
        "  c, s = np.cos(theta), np.sin(theta)\n",
        "  R = np.array([[c, -s], [s, c]])\n",
        "\n",
        "  # Apply rotation to point\n",
        "  return np.dot(R, p)\n"
      ],
      "metadata": {
        "id": "P36jLpj3ZkCR"
      },
      "execution_count": 358,
      "outputs": []
    },
    {
      "cell_type": "code",
      "source": [
        "# 2. tiefigher 그리기\n",
        "def draw_object(ax):\n",
        "  p1 = np.array([0, 0])\n",
        "  p2 = np.array([LEN, 0])\n",
        "  p3 = np.array([LEN,LEN])\n",
        "  p4 = np.array([0, LEN])\n",
        "\n",
        "  # 1. 중앙 조종석 그리기\n",
        "  draw_cockpit(ax, p1, p2, p3, p4)"
      ],
      "metadata": {
        "id": "9lUQMctRDGFb"
      },
      "execution_count": 359,
      "outputs": []
    },
    {
      "cell_type": "markdown",
      "source": [
        "### 3. main"
      ],
      "metadata": {
        "id": "24hO1zQaHiFJ"
      }
    },
    {
      "cell_type": "code",
      "source": [
        "def shear_x(p, sx):\n",
        "  hp = np.array([p[0], p[1], 1.0])\n",
        "  m = np.array([[1.0, sx, 0.0], [0.0, 1.0, 0.0], [0.0, 0.0, 1.0]])\n",
        "  q = np.dot(m, hp)\n",
        "  q = np.array([q[0], q[1]])    \n",
        "  return q\n"
      ],
      "metadata": {
        "id": "lGKErBn-bCOv"
      },
      "execution_count": 360,
      "outputs": []
    },
    {
      "cell_type": "code",
      "source": [
        "def shear_y(p, sy):\n",
        "  # 1. Homogeneous coordinate\n",
        "  hp = np.array([p[0], p[1], 1.0])\n",
        "    \n",
        "  # 2. Shear transformation matrix\n",
        "  m = np.array([[1.0, 0.0, 0.0], [sy, 1.0, 0.0], [0.0, 0.0, 1.0]])\n",
        "    \n",
        "  # 3. Matrix multiplication\n",
        "  q = np.dot(m, hp)  # (3,3) x (3,1) -> (3,1)\n",
        "    \n",
        "  # 4. Cartesian coordinate\n",
        "  q = np.array([q[0], q[1]])\n",
        "    \n",
        "  return q"
      ],
      "metadata": {
        "id": "9hvJEs6Cjaqv"
      },
      "execution_count": 361,
      "outputs": []
    },
    {
      "cell_type": "code",
      "source": [],
      "metadata": {
        "id": "tGpmga0YOCx0"
      },
      "execution_count": 361,
      "outputs": []
    },
    {
      "cell_type": "code",
      "source": [
        "# 그림판 선언 및 크기 설정\n",
        "fig, ax = plt.subplots(figsize=(7,7))\n",
        "\n",
        "\n",
        "# 축 그리기\n",
        "draw_axis(ax)\n",
        "\n",
        "# 물체 그리기\n",
        "draw_object(ax)\n",
        "draw_object2(ax)\n",
        "draw_object3(ax)\n",
        "\n",
        "plt.show()"
      ],
      "metadata": {
        "colab": {
          "base_uri": "https://localhost:8080/",
          "height": 605
        },
        "id": "K_TDIBGBjdcw",
        "outputId": "b6ca0d26-63ec-4f37-f546-ba1d0106604e"
      },
      "execution_count": 371,
      "outputs": [
        {
          "output_type": "display_data",
          "data": {
            "text/plain": [
              "<Figure size 700x700 with 1 Axes>"
            ],
            "image/png": "[encoded data removed]"
          },
          "metadata": {}
        }
      ]
    },
    {
      "cell_type": "code",
      "source": [],
      "metadata": {
        "id": "6E_afNTIm_-6"
      },
      "execution_count": null,
      "outputs": []
    }
  ]
}